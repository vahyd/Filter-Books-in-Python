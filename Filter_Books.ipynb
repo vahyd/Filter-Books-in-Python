{
 "cells": [
  {
   "cell_type": "code",
   "execution_count": 7,
   "metadata": {},
   "outputs": [],
   "source": [
    "import os\n",
    "import argparse"
   ]
  },
  {
   "cell_type": "code",
   "execution_count": 9,
   "metadata": {},
   "outputs": [
    {
     "name": "stdout",
     "output_type": "stream",
     "text": [
      "Undefined arguments!\n"
     ]
    },
    {
     "name": "stderr",
     "output_type": "stream",
     "text": [
      "usage: ipykernel_launcher.py [-h] [--filter FILTER] [--year] [--reverse]\n",
      "ipykernel_launcher.py: error: unrecognized arguments: -f f:\\AppData\\Roaming\\jupyter\\runtime\\kernel-b786a085-f4a7-4848-a76a-b4f1118d1cbc.json\n"
     ]
    }
   ],
   "source": [
    "parser = argparse.ArgumentParser()\n",
    "parser.add_argument('--filter', type=str,\n",
    "                    help=\"show a subset of books, looks for the argument as a substring of any of the              fields\")\n",
    "parser.add_argument(\"--year\", action=\"store_true\", help=\"sort the books by year, ascending instead of default sort\")\n",
    "parser.add_argument(\"--reverse\", action=\"store_true\", help=\"reverse sort\")\n",
    "\n",
    "try:\n",
    "    args = parser.parse_args()\n",
    "except SystemExit:\n",
    "    print(\"Undefined arguments!\")\n"
   ]
  },
  {
   "cell_type": "code",
   "execution_count": 10,
   "metadata": {},
   "outputs": [],
   "source": [
    "\n",
    "def find(items, term, key):\n",
    "    return [item[key] for item in items if item[\"id\"] == term]"
   ]
  },
  {
   "cell_type": "code",
   "execution_count": 11,
   "metadata": {},
   "outputs": [],
   "source": [
    "def createList(dic):\n",
    "\n",
    "    #Extract file types\n",
    "    types = []\n",
    "    for elm in dic:\n",
    "        types.append(elm['id'])\n",
    "\n",
    "    # Initiaite the output list\n",
    "    aList = []\n",
    "    # Explore the directory\n",
    "    for filename in os.listdir(os.getcwd()):\n",
    "        # Find specific input file types\n",
    "        if filename in types:\n",
    "            file = open(filename, \"r\")\n",
    "            lines = file.readlines()\n",
    "            file.close()\n",
    "            # Find the seperator based on type\n",
    "            seperator = find(dic, filename, \"sep\")[0]\n",
    "            # Find the order of items in a row based on type\n",
    "            seq = find(dic, filename, \"seq\")[0]\n",
    "            for line in lines:\n",
    "                item = line.strip().split(seperator)\n",
    "                # Recorder the items in each row\n",
    "                item_adj = [item[seq[0]].strip(), item[seq[1]].strip(), item[seq[2]].strip(), item[seq[3]].strip()]\n",
    "                aList.append(item_adj)\n",
    "\n",
    "    # Convert the year from string to integer\n",
    "    for item in aList:\n",
    "        item[3] = int(item[3])\n",
    "\n",
    "    # Default output\n",
    "    return aList\n"
   ]
  },
  {
   "cell_type": "code",
   "execution_count": 12,
   "metadata": {},
   "outputs": [],
   "source": [
    "def changeList(out, args):\n",
    "\n",
    "    if args.filter:\n",
    "        filterArray =[]\n",
    "        for elm in out:\n",
    "            line =  \"%s %s %s %s\" %(elm[0],elm[1],elm[2],str(elm[3]))\n",
    "            if args.filter.lower() in line.lower():\n",
    "                filterArray.append(elm)\n",
    "        out = filterArray\n",
    "\n",
    "    if args.year:\n",
    "        sortColumn = 3\n",
    "    else:\n",
    "        sortColumn = 0\n",
    "\n",
    "    if args.reverse:\n",
    "        out = sorted(out, key=lambda x: x[sortColumn], reverse =True)\n",
    "    else:\n",
    "        out = sorted(out, key=lambda x: x[sortColumn])\n",
    "\n",
    "    return out\n"
   ]
  },
  {
   "cell_type": "code",
   "execution_count": 13,
   "metadata": {},
   "outputs": [],
   "source": [
    "def main():\n",
    "\n",
    "    #Dictionary of input files\n",
    "    dic = [{\"id\" :\"csv\", \"sep\": \",\", \"seq\": [1, 2, 0, 3]},\n",
    "           {\"id\": \"pipe\", \"sep\": \"|\", \"seq\" : [1, 0, 2, 3]},\n",
    "           {\"id\": \"slash\", \"sep\": \"/\", \"seq\": [2, 1, 3, 0]}\n",
    "           ]\n",
    "\n",
    "\n",
    "    #Call createList function to extract data from input files\n",
    "    out = createList(dic)\n",
    "\n",
    "    #Call changeList function to consider input arguments\n",
    "    #out = changeList(out, args)\n",
    "\n",
    "    #Print the final output\n",
    "    for elm in out:\n",
    "        print(\"%s, %s, %s, %s\" %(elm[0],elm[1],elm[2],str(elm[3])))\n"
   ]
  },
  {
   "cell_type": "code",
   "execution_count": 14,
   "metadata": {},
   "outputs": [
    {
     "name": "stdout",
     "output_type": "stream",
     "text": [
      "Martin, Robert, Clean Code, 2008\n",
      "Shore, James, The Art of Agile Development, 2008\n",
      "Beck, Kent, Test-Driven Development, 2002\n",
      "Beck, Kent, Implementation Patterns, 2007\n",
      "Fowler, Martin, Refactoring, 1999\n",
      "Brooks, Fred, The Mythical Man-Month, 1975\n",
      "Crockford, Douglas, Javascript: The Good Parts, 2008\n",
      "McConnell, Steve, Code Complete, 1993\n",
      "Fowler, Martin, Patterns of Enterprise Application Architecture, 2002\n"
     ]
    }
   ],
   "source": [
    "if __name__ == \"__main__\":\n",
    "    main()\n"
   ]
  }
 ],
 "metadata": {
  "kernelspec": {
   "display_name": "Python 3",
   "language": "python",
   "name": "python3"
  },
  "language_info": {
   "codemirror_mode": {
    "name": "ipython",
    "version": 3
   },
   "file_extension": ".py",
   "mimetype": "text/x-python",
   "name": "python",
   "nbconvert_exporter": "python",
   "pygments_lexer": "ipython3",
   "version": "3.6.4"
  }
 },
 "nbformat": 4,
 "nbformat_minor": 2
}
